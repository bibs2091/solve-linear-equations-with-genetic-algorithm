{
  "nbformat": 4,
  "nbformat_minor": 0,
  "metadata": {
    "colab": {
      "name": "GA.ipynb",
      "provenance": [],
      "collapsed_sections": [],
      "include_colab_link": true
    },
    "kernelspec": {
      "name": "python3",
      "display_name": "Python 3"
    }
  },
  "cells": [
    {
      "cell_type": "markdown",
      "metadata": {
        "id": "view-in-github",
        "colab_type": "text"
      },
      "source": [
        "<a href=\"https://colab.research.google.com/github/bibs2091/solve-linear-equations-with-genetic-algorithm/blob/master/GA.ipynb\" target=\"_parent\"><img src=\"https://colab.research.google.com/assets/colab-badge.svg\" alt=\"Open In Colab\"/></a>"
      ]
    },
    {
      "cell_type": "markdown",
      "metadata": {
        "id": "iZmX7z5A9Ekq",
        "colab_type": "text"
      },
      "source": [
        "Importing the necessary libreries "
      ]
    },
    {
      "cell_type": "code",
      "metadata": {
        "id": "2llecncm8Yxh",
        "colab_type": "code",
        "colab": {}
      },
      "source": [
        "import numpy as np\n",
        "import math\n",
        "import matplotlib.pyplot as plt\n"
      ],
      "execution_count": 0,
      "outputs": []
    },
    {
      "cell_type": "markdown",
      "metadata": {
        "id": "6Wrso3WSABXh",
        "colab_type": "text"
      },
      "source": [
        "define the *fitness* function and *fitness to probability* function"
      ]
    },
    {
      "cell_type": "code",
      "metadata": {
        "id": "YDnlczgP-F8L",
        "colab_type": "code",
        "colab": {}
      },
      "source": [
        "def fitness(matrix):\n",
        "  cof = np.array([1,2,3,4])\n",
        "  res = np.sum(cof * matrix,axis=1,keepdims=True)\n",
        "  return np.absolute(res - 30)\n",
        "  \n",
        "def fitprob(matrix):\n",
        "  res = fitness(matrix)\n",
        "  summ =  np.sum(res,keepdims=True)\n",
        "  return   1 - (res / summ)"
      ],
      "execution_count": 0,
      "outputs": []
    },
    {
      "cell_type": "markdown",
      "metadata": {
        "id": "EBAAsFxGCR7u",
        "colab_type": "text"
      },
      "source": [
        "This function do a crossover between random number of chromosomes "
      ]
    },
    {
      "cell_type": "code",
      "metadata": {
        "id": "EcKV6nfh70U4",
        "colab_type": "code",
        "colab": {}
      },
      "source": [
        "def round_up_to_even(f):\n",
        "  return math.ceil(f / 2.) * 2\n",
        "def crossover(matrix):\n",
        "  shape0 = matrix.shape[0]\n",
        "  shape1 = matrix.shape[1]\n",
        "  nb_cross = round_up_to_even(shape0)\n",
        "  to_cross = np.random.randint(0,shape0,(nb_cross,2))\n",
        "  crossed = np.array([np.concatenate((matrix[ind[0],:2],matrix[ind[1],2:])) for ind in to_cross])\n",
        "  matrix = np.append(matrix, crossed, axis=0)\n",
        "  return matrix"
      ],
      "execution_count": 0,
      "outputs": []
    },
    {
      "cell_type": "markdown",
      "metadata": {
        "id": "scz14DG9C4bX",
        "colab_type": "text"
      },
      "source": [
        "This function do a mutation in random gen in random chromosomes "
      ]
    },
    {
      "cell_type": "code",
      "metadata": {
        "id": "HcZOC1yTDiX9",
        "colab_type": "code",
        "colab": {}
      },
      "source": [
        "def mutation(matrix):\n",
        "  probability = 0.2\n",
        "  shape0 = matrix.shape[0]\n",
        "  shape1 = matrix.shape[1]\n",
        "  p_mutate = (np.random.uniform(size=(shape0,1)) <= probability)\n",
        "  for i in range(shape0):\n",
        "    if (p_mutate[i] == True):\n",
        "      random_num = np.random.randint(0,30)\n",
        "      random_col = np.random.randint(0,shape1)\n",
        "      matrix[i,random_col] = random_num\n",
        "  return matrix"
      ],
      "execution_count": 0,
      "outputs": []
    },
    {
      "cell_type": "markdown",
      "metadata": {
        "id": "bfxHKB1xAasA",
        "colab_type": "text"
      },
      "source": [
        "Selecting chromosomes based on their fitprob, if it's low then there's a high chance that It will drop"
      ]
    },
    {
      "cell_type": "code",
      "metadata": {
        "id": "DG-XJOkGAyx1",
        "colab_type": "code",
        "colab": {}
      },
      "source": [
        "\n",
        "def select(matrix,vector):\n",
        "  shape0 = matrix.shape[0]\n",
        "  drop_prob = ( np.random.uniform(size=(shape0,1)) <= vector)\n",
        "  matrix = np.array([matrix[i,:] for i in range(shape0) if drop_prob[i]])\n",
        "  return matrix"
      ],
      "execution_count": 0,
      "outputs": []
    },
    {
      "cell_type": "markdown",
      "metadata": {
        "id": "WMbCb0JNAwOy",
        "colab_type": "text"
      },
      "source": [
        "Selecting basing on ranking them then take the top half among them "
      ]
    },
    {
      "cell_type": "code",
      "metadata": {
        "id": "qi2wB5e1BEfr",
        "colab_type": "code",
        "colab": {}
      },
      "source": [
        "# def select(matrix,vector):\n",
        "#   new_v = np.array([[vector[i].tolist(),i] for i in range(vector.shape[0])])\n",
        "#   r = new_v[new_v[:,0].argsort()[::-1]]\n",
        "#   res = r[:int(vector.shape[0]//2)]\n",
        "#   new_pop = np.array([matrix[i] for i in res[:,1]])\n",
        "#   return new_pop\n",
        "# select(population,vector)"
      ],
      "execution_count": 0,
      "outputs": []
    },
    {
      "cell_type": "markdown",
      "metadata": {
        "id": "Dn9y-HsyDfSP",
        "colab_type": "text"
      },
      "source": [
        "Now the function to train our population over certain number of generations"
      ]
    },
    {
      "cell_type": "code",
      "metadata": {
        "id": "S7i9tKYvFOXD",
        "colab_type": "code",
        "colab": {}
      },
      "source": [
        "def train(generation = 10):\n",
        "  population = np.random.randint(0,30,(10,4))\n",
        "  fitness_list = [min(fitness(population))]\n",
        "  for i in range(generation):\n",
        "    population = crossover(population)\n",
        "    population = mutation(population)\n",
        "    vector = fitprob(population)\n",
        "    fitness_list.append(min(fitness(population)))\n",
        "    population = select(population,vector)\n",
        "  index_of_solution = np.argmin(fitness(population))\n",
        "  return population,fitness_list,population[index_of_solution]\n"
      ],
      "execution_count": 0,
      "outputs": []
    },
    {
      "cell_type": "markdown",
      "metadata": {
        "id": "X3aRh-G1D_E7",
        "colab_type": "text"
      },
      "source": [
        "now let's plot the fitness over generations"
      ]
    },
    {
      "cell_type": "code",
      "metadata": {
        "id": "m7FVhq_oKboW",
        "colab_type": "code",
        "outputId": "bc25d51d-86fc-4b61-879f-44cf62a36989",
        "colab": {
          "base_uri": "https://localhost:8080/",
          "height": 265
        }
      },
      "source": [
        "population,fitness_list,solution = train(15)\n",
        "plt.plot(fitness_list)\n",
        "plt.show()"
      ],
      "execution_count": 8,
      "outputs": [
        {
          "output_type": "display_data",
          "data": {
            "image/png": "[encoded data removed]",
            "text/plain": [
              "<Figure size 432x288 with 1 Axes>"
            ]
          },
          "metadata": {
            "tags": []
          }
        }
      ]
    },
    {
      "cell_type": "markdown",
      "metadata": {
        "id": "kt_hGe7CFEGO",
        "colab_type": "text"
      },
      "source": [
        "# Now let's print the solution"
      ]
    },
    {
      "cell_type": "code",
      "metadata": {
        "id": "SizJQ7JtEFzK",
        "colab_type": "code",
        "outputId": "0814d5d7-b2f6-4187-c758-151679eaef9f",
        "colab": {
          "base_uri": "https://localhost:8080/",
          "height": 34
        }
      },
      "source": [
        "print(solution)"
      ],
      "execution_count": 9,
      "outputs": [
        {
          "output_type": "stream",
          "text": [
            "[19  1  3  0]\n"
          ],
          "name": "stdout"
        }
      ]
    }
  ]
}