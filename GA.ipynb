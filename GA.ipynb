{
  "nbformat": 4,
  "nbformat_minor": 0,
  "metadata": {
    "colab": {
      "name": "GA.ipynb",
      "provenance": [],
      "collapsed_sections": []
    },
    "kernelspec": {
      "name": "python3",
      "display_name": "Python 3"
    }
  },
  "cells": [
    {
      "cell_type": "code",
      "metadata": {
        "id": "2llecncm8Yxh",
        "colab_type": "code",
        "colab": {}
      },
      "source": [
        "import numpy as np\n",
        "import math\n",
        "import matplotlib.pyplot as plt\n"
      ],
      "execution_count": 0,
      "outputs": []
    },
    {
      "cell_type": "code",
      "metadata": {
        "id": "t50pm7fo996E",
        "colab_type": "code",
        "outputId": "a4fb0e67-df2a-4bde-b735-1effc62386f6",
        "colab": {
          "base_uri": "https://localhost:8080/",
          "height": 119
        }
      },
      "source": [
        "population = np.random.randint(0,10,(6,4))\n",
        "population"
      ],
      "execution_count": 9,
      "outputs": [
        {
          "output_type": "execute_result",
          "data": {
            "text/plain": [
              "array([[7, 7, 8, 5],\n",
              "       [1, 9, 8, 1],\n",
              "       [6, 6, 9, 1],\n",
              "       [9, 4, 6, 6],\n",
              "       [5, 1, 1, 2],\n",
              "       [4, 7, 8, 7]])"
            ]
          },
          "metadata": {
            "tags": []
          },
          "execution_count": 9
        }
      ]
    },
    {
      "cell_type": "code",
      "metadata": {
        "id": "YDnlczgP-F8L",
        "colab_type": "code",
        "colab": {}
      },
      "source": [
        "def fitness(matrix):\n",
        "  cof = np.array([1,2,3,4])\n",
        "  res = np.sum(cof * matrix,axis=1,keepdims=True)\n",
        "  return np.absolute(res - 30)"
      ],
      "execution_count": 0,
      "outputs": []
    },
    {
      "cell_type": "code",
      "metadata": {
        "id": "w_Q5RDQy_CiS",
        "colab_type": "code",
        "colab": {}
      },
      "source": [
        "def fitprob(matrix):\n",
        "  res = fitness(matrix)\n",
        "  summ =  np.sum(res,keepdims=True)\n",
        "  return   1 - (res / summ)"
      ],
      "execution_count": 0,
      "outputs": []
    },
    {
      "cell_type": "code",
      "metadata": {
        "id": "qES7dtX1AJXZ",
        "colab_type": "code",
        "outputId": "033dddda-8658-4fe0-e8bf-c1385a211597",
        "colab": {
          "base_uri": "https://localhost:8080/",
          "height": 221
        }
      },
      "source": [
        "vector = fitness(population)\n",
        "print(vector)\n",
        "vector = fitprob(population)\n",
        "print(vector)\n"
      ],
      "execution_count": 12,
      "outputs": [
        {
          "output_type": "stream",
          "text": [
            "[[35]\n",
            " [17]\n",
            " [19]\n",
            " [29]\n",
            " [12]\n",
            " [40]]\n",
            "[[0.76973684]\n",
            " [0.88815789]\n",
            " [0.875     ]\n",
            " [0.80921053]\n",
            " [0.92105263]\n",
            " [0.73684211]]\n"
          ],
          "name": "stdout"
        }
      ]
    },
    {
      "cell_type": "code",
      "metadata": {
        "id": "DG-XJOkGAyx1",
        "colab_type": "code",
        "outputId": "bd305f6d-07a8-4509-f61a-6c8d1d320189",
        "colab": {
          "base_uri": "https://localhost:8080/",
          "height": 119
        }
      },
      "source": [
        "# def select(matrix,vector):\n",
        "#   new_v = np.array([[vector[i].tolist(),i] for i in range(vector.shape[0])])\n",
        "#   r = new_v[new_v[:,0].argsort()[::-1]]\n",
        "#   res = r[:int(vector.shape[0]//2)]\n",
        "#   new_pop = np.array([matrix[i] for i in res[:,1]])\n",
        "#   return new_pop\n",
        "# select(population,vector)\n",
        "def select(matrix,vector):\n",
        "  shape0 = matrix.shape[0]\n",
        "  drop_prob = ( np.random.uniform(size=(shape0,1)) <= vector)\n",
        "  matrix = np.array([matrix[i,:] for i in range(shape0) if drop_prob[i]])\n",
        "  return matrix\n",
        "select(population,vector)\n",
        "  "
      ],
      "execution_count": 13,
      "outputs": [
        {
          "output_type": "execute_result",
          "data": {
            "text/plain": [
              "array([[7, 7, 8, 5],\n",
              "       [1, 9, 8, 1],\n",
              "       [6, 6, 9, 1],\n",
              "       [9, 4, 6, 6],\n",
              "       [5, 1, 1, 2],\n",
              "       [4, 7, 8, 7]])"
            ]
          },
          "metadata": {
            "tags": []
          },
          "execution_count": 13
        }
      ]
    },
    {
      "cell_type": "code",
      "metadata": {
        "id": "EcKV6nfh70U4",
        "colab_type": "code",
        "outputId": "8ee0523b-42f0-4d97-8f3f-9fe913be6c57",
        "colab": {
          "base_uri": "https://localhost:8080/",
          "height": 221
        }
      },
      "source": [
        "def round_up_to_even(f):\n",
        "  return math.ceil(f / 2.) * 2\n",
        "def crossover(matrix):\n",
        "  shape0 = matrix.shape[0]\n",
        "  shape1 = matrix.shape[1]\n",
        "  nb_cross = round_up_to_even(shape0)\n",
        "  to_cross = np.random.randint(0,shape0,(nb_cross,2))\n",
        "  crossed = np.array([np.concatenate((matrix[ind[0],:2],matrix[ind[1],2:])) for ind in to_cross])\n",
        "  matrix = np.append(matrix, crossed, axis=0)\n",
        "  return matrix\n",
        "crossover(population)"
      ],
      "execution_count": 14,
      "outputs": [
        {
          "output_type": "execute_result",
          "data": {
            "text/plain": [
              "array([[7, 7, 8, 5],\n",
              "       [1, 9, 8, 1],\n",
              "       [6, 6, 9, 1],\n",
              "       [9, 4, 6, 6],\n",
              "       [5, 1, 1, 2],\n",
              "       [4, 7, 8, 7],\n",
              "       [7, 7, 1, 2],\n",
              "       [4, 7, 8, 1],\n",
              "       [4, 7, 1, 2],\n",
              "       [7, 7, 1, 2],\n",
              "       [4, 7, 8, 5],\n",
              "       [7, 7, 8, 5]])"
            ]
          },
          "metadata": {
            "tags": []
          },
          "execution_count": 14
        }
      ]
    },
    {
      "cell_type": "code",
      "metadata": {
        "id": "HcZOC1yTDiX9",
        "colab_type": "code",
        "outputId": "fb52d4b7-8d54-4524-cd28-c013f274a39a",
        "colab": {
          "base_uri": "https://localhost:8080/",
          "height": 119
        }
      },
      "source": [
        "def mutation(matrix):\n",
        "  probability = 0.2\n",
        "  shape0 = matrix.shape[0]\n",
        "  shape1 = matrix.shape[1]\n",
        "  p_mutate = (np.random.uniform(size=(shape0,1)) <= probability)\n",
        "  for i in range(shape0):\n",
        "    if (p_mutate[i] == True):\n",
        "      random_num = np.random.randint(0,30)\n",
        "      random_col = np.random.randint(0,shape1)\n",
        "      matrix[i,random_col] = random_num\n",
        "  return matrix\n",
        "\n",
        "mutation(population)\n"
      ],
      "execution_count": 15,
      "outputs": [
        {
          "output_type": "execute_result",
          "data": {
            "text/plain": [
              "array([[ 7,  7,  8,  5],\n",
              "       [ 1,  9,  8,  1],\n",
              "       [ 6, 23,  9,  1],\n",
              "       [ 9,  4,  6,  1],\n",
              "       [ 5,  1,  1,  2],\n",
              "       [ 4,  7,  8,  7]])"
            ]
          },
          "metadata": {
            "tags": []
          },
          "execution_count": 15
        }
      ]
    },
    {
      "cell_type": "code",
      "metadata": {
        "id": "S7i9tKYvFOXD",
        "colab_type": "code",
        "colab": {
          "base_uri": "https://localhost:8080/",
          "height": 469
        },
        "outputId": "26f4fcb4-d958-4a35-a904-242fedda6d7c"
      },
      "source": [
        "def train(generation = 100):\n",
        "  population = np.random.randint(0,30,(10,4))\n",
        "  matrix = population\n",
        "  fitness_list = [min(fitness(population))]\n",
        "  for i in range(generation):\n",
        "    print(matrix.shape)\n",
        "    matrix = crossover(matrix)\n",
        "    matrix = mutation(matrix)\n",
        "    vector = fitprob(matrix)\n",
        "    fitness_list.append(min(fitness(matrix)))\n",
        "    matrix = select(matrix,vector)\n",
        "  return matrix,fitness_list\n",
        "population,fitness_list = train(10)\n",
        "print(fitness_list)\n",
        "plt.plot(fitness_list)"
      ],
      "execution_count": 21,
      "outputs": [
        {
          "output_type": "stream",
          "text": [
            "(10, 4)\n",
            "(18, 4)\n",
            "(36, 4)\n",
            "(71, 4)\n",
            "(142, 4)\n",
            "(282, 4)\n",
            "(563, 4)\n",
            "(1127, 4)\n",
            "(2255, 4)\n",
            "(4510, 4)\n",
            "[array([41]), array([20]), array([25]), array([18]), array([18]), array([6]), array([6]), array([3]), array([1]), array([1]), array([0])]\n"
          ],
          "name": "stdout"
        },
        {
          "output_type": "execute_result",
          "data": {
            "text/plain": [
              "[<matplotlib.lines.Line2D at 0x7f5d0d11c1d0>]"
            ]
          },
          "metadata": {
            "tags": []
          },
          "execution_count": 21
        },
        {
          "output_type": "display_data",
          "data": {
            "image/png": "[encoded data removed]",
            "text/plain": [
              "<Figure size 432x288 with 1 Axes>"
            ]
          },
          "metadata": {
            "tags": []
          }
        }
      ]
    },
    {
      "cell_type": "code",
      "metadata": {
        "id": "m7FVhq_oKboW",
        "colab_type": "code",
        "colab": {}
      },
      "source": [
        ""
      ],
      "execution_count": 0,
      "outputs": []
    }
  ]
}